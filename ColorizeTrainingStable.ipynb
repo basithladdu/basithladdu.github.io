{
  "cells": [
    {
      "cell_type": "markdown",
      "metadata": {
        "id": "rU3la6TrCMRd"
      },
      "source": [
        "## Stable Model Training"
      ]
    },
    {
      "cell_type": "markdown",
      "metadata": {
        "id": "oN9FVlqsCMRi"
      },
      "source": [
        "#### NOTES:  \n",
        "* This is \"NoGAN\" based training, described in the DeOldify readme.\n",
        "* This model prioritizes stable and reliable renderings.  It does particularly well on portraits and landscapes.  It's not as colorful as the artistic model."
      ]
    },
    {
      "cell_type": "code",
      "source": [
        "# Install required libraries\n",
        "!pip install fastai==1.0.61\n",
        "!pip install tensorboard\n",
        "!pip install pillow==6.2.2  # Specific version for compatibility\n",
        "!pip install torchvision\n",
        "!pip install deoldify==0.2.0\n",
        "!pip install streamlit\n",
        "!pip install pyngrok  # For exposing Streamlit app\n"
      ],
      "metadata": {
        "id": "vg0DOSMxEH46",
        "outputId": "0ad3f9d7-c87d-4800-d3ba-94eefb009e21",
        "colab": {
          "base_uri": "https://localhost:8080/",
          "height": 1000
        }
      },
      "execution_count": 1,
      "outputs": [
        {
          "output_type": "stream",
          "name": "stdout",
          "text": [
            "Requirement already satisfied: fastai==1.0.61 in /usr/local/lib/python3.11/dist-packages (1.0.61)\n",
            "Requirement already satisfied: bottleneck in /usr/local/lib/python3.11/dist-packages (from fastai==1.0.61) (1.4.2)\n",
            "Requirement already satisfied: fastprogress>=0.2.1 in /usr/local/lib/python3.11/dist-packages (from fastai==1.0.61) (1.0.3)\n",
            "Requirement already satisfied: beautifulsoup4 in /usr/local/lib/python3.11/dist-packages (from fastai==1.0.61) (4.13.3)\n",
            "Requirement already satisfied: matplotlib in /usr/local/lib/python3.11/dist-packages (from fastai==1.0.61) (3.10.0)\n",
            "Requirement already satisfied: numexpr in /usr/local/lib/python3.11/dist-packages (from fastai==1.0.61) (2.10.2)\n",
            "Requirement already satisfied: numpy>=1.15 in /usr/local/lib/python3.11/dist-packages (from fastai==1.0.61) (2.0.2)\n",
            "Requirement already satisfied: nvidia-ml-py3 in /usr/local/lib/python3.11/dist-packages (from fastai==1.0.61) (7.352.0)\n",
            "Requirement already satisfied: pandas in /usr/local/lib/python3.11/dist-packages (from fastai==1.0.61) (2.2.2)\n",
            "Requirement already satisfied: packaging in /usr/local/lib/python3.11/dist-packages (from fastai==1.0.61) (24.2)\n",
            "Requirement already satisfied: Pillow in /usr/local/lib/python3.11/dist-packages (from fastai==1.0.61) (11.1.0)\n",
            "Requirement already satisfied: pyyaml in /usr/local/lib/python3.11/dist-packages (from fastai==1.0.61) (6.0.2)\n",
            "Requirement already satisfied: requests in /usr/local/lib/python3.11/dist-packages (from fastai==1.0.61) (2.32.3)\n",
            "Requirement already satisfied: scipy in /usr/local/lib/python3.11/dist-packages (from fastai==1.0.61) (1.14.1)\n",
            "Requirement already satisfied: torch>=1.0.0 in /usr/local/lib/python3.11/dist-packages (from fastai==1.0.61) (2.6.0+cu124)\n",
            "Requirement already satisfied: torchvision in /usr/local/lib/python3.11/dist-packages (from fastai==1.0.61) (0.21.0+cu124)\n",
            "Requirement already satisfied: filelock in /usr/local/lib/python3.11/dist-packages (from torch>=1.0.0->fastai==1.0.61) (3.18.0)\n",
            "Requirement already satisfied: typing-extensions>=4.10.0 in /usr/local/lib/python3.11/dist-packages (from torch>=1.0.0->fastai==1.0.61) (4.12.2)\n",
            "Requirement already satisfied: networkx in /usr/local/lib/python3.11/dist-packages (from torch>=1.0.0->fastai==1.0.61) (3.4.2)\n",
            "Requirement already satisfied: jinja2 in /usr/local/lib/python3.11/dist-packages (from torch>=1.0.0->fastai==1.0.61) (3.1.6)\n",
            "Requirement already satisfied: fsspec in /usr/local/lib/python3.11/dist-packages (from torch>=1.0.0->fastai==1.0.61) (2025.3.0)\n",
            "Requirement already satisfied: nvidia-cuda-nvrtc-cu12==12.4.127 in /usr/local/lib/python3.11/dist-packages (from torch>=1.0.0->fastai==1.0.61) (12.4.127)\n",
            "Requirement already satisfied: nvidia-cuda-runtime-cu12==12.4.127 in /usr/local/lib/python3.11/dist-packages (from torch>=1.0.0->fastai==1.0.61) (12.4.127)\n",
            "Requirement already satisfied: nvidia-cuda-cupti-cu12==12.4.127 in /usr/local/lib/python3.11/dist-packages (from torch>=1.0.0->fastai==1.0.61) (12.4.127)\n",
            "Requirement already satisfied: nvidia-cudnn-cu12==9.1.0.70 in /usr/local/lib/python3.11/dist-packages (from torch>=1.0.0->fastai==1.0.61) (9.1.0.70)\n",
            "Requirement already satisfied: nvidia-cublas-cu12==12.4.5.8 in /usr/local/lib/python3.11/dist-packages (from torch>=1.0.0->fastai==1.0.61) (12.4.5.8)\n",
            "Requirement already satisfied: nvidia-cufft-cu12==11.2.1.3 in /usr/local/lib/python3.11/dist-packages (from torch>=1.0.0->fastai==1.0.61) (11.2.1.3)\n",
            "Requirement already satisfied: nvidia-curand-cu12==10.3.5.147 in /usr/local/lib/python3.11/dist-packages (from torch>=1.0.0->fastai==1.0.61) (10.3.5.147)\n",
            "Requirement already satisfied: nvidia-cusolver-cu12==11.6.1.9 in /usr/local/lib/python3.11/dist-packages (from torch>=1.0.0->fastai==1.0.61) (11.6.1.9)\n",
            "Requirement already satisfied: nvidia-cusparse-cu12==12.3.1.170 in /usr/local/lib/python3.11/dist-packages (from torch>=1.0.0->fastai==1.0.61) (12.3.1.170)\n",
            "Requirement already satisfied: nvidia-cusparselt-cu12==0.6.2 in /usr/local/lib/python3.11/dist-packages (from torch>=1.0.0->fastai==1.0.61) (0.6.2)\n",
            "Requirement already satisfied: nvidia-nccl-cu12==2.21.5 in /usr/local/lib/python3.11/dist-packages (from torch>=1.0.0->fastai==1.0.61) (2.21.5)\n",
            "Requirement already satisfied: nvidia-nvtx-cu12==12.4.127 in /usr/local/lib/python3.11/dist-packages (from torch>=1.0.0->fastai==1.0.61) (12.4.127)\n",
            "Requirement already satisfied: nvidia-nvjitlink-cu12==12.4.127 in /usr/local/lib/python3.11/dist-packages (from torch>=1.0.0->fastai==1.0.61) (12.4.127)\n",
            "Requirement already satisfied: triton==3.2.0 in /usr/local/lib/python3.11/dist-packages (from torch>=1.0.0->fastai==1.0.61) (3.2.0)\n",
            "Requirement already satisfied: sympy==1.13.1 in /usr/local/lib/python3.11/dist-packages (from torch>=1.0.0->fastai==1.0.61) (1.13.1)\n",
            "Requirement already satisfied: mpmath<1.4,>=1.1.0 in /usr/local/lib/python3.11/dist-packages (from sympy==1.13.1->torch>=1.0.0->fastai==1.0.61) (1.3.0)\n",
            "Requirement already satisfied: soupsieve>1.2 in /usr/local/lib/python3.11/dist-packages (from beautifulsoup4->fastai==1.0.61) (2.6)\n",
            "Requirement already satisfied: contourpy>=1.0.1 in /usr/local/lib/python3.11/dist-packages (from matplotlib->fastai==1.0.61) (1.3.1)\n",
            "Requirement already satisfied: cycler>=0.10 in /usr/local/lib/python3.11/dist-packages (from matplotlib->fastai==1.0.61) (0.12.1)\n",
            "Requirement already satisfied: fonttools>=4.22.0 in /usr/local/lib/python3.11/dist-packages (from matplotlib->fastai==1.0.61) (4.56.0)\n",
            "Requirement already satisfied: kiwisolver>=1.3.1 in /usr/local/lib/python3.11/dist-packages (from matplotlib->fastai==1.0.61) (1.4.8)\n",
            "Requirement already satisfied: pyparsing>=2.3.1 in /usr/local/lib/python3.11/dist-packages (from matplotlib->fastai==1.0.61) (3.2.1)\n",
            "Requirement already satisfied: python-dateutil>=2.7 in /usr/local/lib/python3.11/dist-packages (from matplotlib->fastai==1.0.61) (2.8.2)\n",
            "Requirement already satisfied: pytz>=2020.1 in /usr/local/lib/python3.11/dist-packages (from pandas->fastai==1.0.61) (2025.1)\n",
            "Requirement already satisfied: tzdata>=2022.7 in /usr/local/lib/python3.11/dist-packages (from pandas->fastai==1.0.61) (2025.1)\n",
            "Requirement already satisfied: charset-normalizer<4,>=2 in /usr/local/lib/python3.11/dist-packages (from requests->fastai==1.0.61) (3.4.1)\n",
            "Requirement already satisfied: idna<4,>=2.5 in /usr/local/lib/python3.11/dist-packages (from requests->fastai==1.0.61) (3.10)\n",
            "Requirement already satisfied: urllib3<3,>=1.21.1 in /usr/local/lib/python3.11/dist-packages (from requests->fastai==1.0.61) (2.3.0)\n",
            "Requirement already satisfied: certifi>=2017.4.17 in /usr/local/lib/python3.11/dist-packages (from requests->fastai==1.0.61) (2025.1.31)\n",
            "Requirement already satisfied: six>=1.5 in /usr/local/lib/python3.11/dist-packages (from python-dateutil>=2.7->matplotlib->fastai==1.0.61) (1.17.0)\n",
            "Requirement already satisfied: MarkupSafe>=2.0 in /usr/local/lib/python3.11/dist-packages (from jinja2->torch>=1.0.0->fastai==1.0.61) (3.0.2)\n",
            "Requirement already satisfied: tensorboard in /usr/local/lib/python3.11/dist-packages (2.18.0)\n",
            "Requirement already satisfied: absl-py>=0.4 in /usr/local/lib/python3.11/dist-packages (from tensorboard) (1.4.0)\n",
            "Requirement already satisfied: grpcio>=1.48.2 in /usr/local/lib/python3.11/dist-packages (from tensorboard) (1.71.0)\n",
            "Requirement already satisfied: markdown>=2.6.8 in /usr/local/lib/python3.11/dist-packages (from tensorboard) (3.7)\n",
            "Requirement already satisfied: numpy>=1.12.0 in /usr/local/lib/python3.11/dist-packages (from tensorboard) (2.0.2)\n",
            "Requirement already satisfied: packaging in /usr/local/lib/python3.11/dist-packages (from tensorboard) (24.2)\n",
            "Requirement already satisfied: protobuf!=4.24.0,>=3.19.6 in /usr/local/lib/python3.11/dist-packages (from tensorboard) (5.29.4)\n",
            "Requirement already satisfied: setuptools>=41.0.0 in /usr/local/lib/python3.11/dist-packages (from tensorboard) (75.1.0)\n",
            "Requirement already satisfied: six>1.9 in /usr/local/lib/python3.11/dist-packages (from tensorboard) (1.17.0)\n",
            "Requirement already satisfied: tensorboard-data-server<0.8.0,>=0.7.0 in /usr/local/lib/python3.11/dist-packages (from tensorboard) (0.7.2)\n",
            "Requirement already satisfied: werkzeug>=1.0.1 in /usr/local/lib/python3.11/dist-packages (from tensorboard) (3.1.3)\n",
            "Requirement already satisfied: MarkupSafe>=2.1.1 in /usr/local/lib/python3.11/dist-packages (from werkzeug>=1.0.1->tensorboard) (3.0.2)\n",
            "Collecting pillow==6.2.2\n",
            "  Using cached Pillow-6.2.2-cp311-cp311-linux_x86_64.whl\n",
            "Installing collected packages: pillow\n",
            "  Attempting uninstall: pillow\n",
            "    Found existing installation: pillow 11.1.0\n",
            "    Uninstalling pillow-11.1.0:\n",
            "      Successfully uninstalled pillow-11.1.0\n",
            "\u001b[31mERROR: pip's dependency resolver does not currently take into account all the packages that are installed. This behaviour is the source of the following dependency conflicts.\n",
            "dopamine-rl 4.1.2 requires Pillow>=7.0.0, but you have pillow 6.2.2 which is incompatible.\n",
            "scikit-image 0.25.2 requires pillow>=10.1, but you have pillow 6.2.2 which is incompatible.\n",
            "bokeh 3.6.3 requires pillow>=7.1.0, but you have pillow 6.2.2 which is incompatible.\n",
            "matplotlib 3.10.0 requires pillow>=8, but you have pillow 6.2.2 which is incompatible.\n",
            "imageio 2.37.0 requires pillow>=8.3.2, but you have pillow 6.2.2 which is incompatible.\u001b[0m\u001b[31m\n",
            "\u001b[0mSuccessfully installed pillow-6.2.2\n"
          ]
        },
        {
          "output_type": "display_data",
          "data": {
            "application/vnd.colab-display-data+json": {
              "pip_warning": {
                "packages": [
                  "PIL"
                ]
              },
              "id": "ad132bb760a646499d05769ec81a69e1"
            }
          },
          "metadata": {}
        },
        {
          "output_type": "stream",
          "name": "stdout",
          "text": [
            "Requirement already satisfied: torchvision in /usr/local/lib/python3.11/dist-packages (0.21.0+cu124)\n",
            "Requirement already satisfied: numpy in /usr/local/lib/python3.11/dist-packages (from torchvision) (2.0.2)\n",
            "Requirement already satisfied: torch==2.6.0 in /usr/local/lib/python3.11/dist-packages (from torchvision) (2.6.0+cu124)\n",
            "Requirement already satisfied: pillow!=8.3.*,>=5.3.0 in /usr/local/lib/python3.11/dist-packages (from torchvision) (6.2.2)\n",
            "Requirement already satisfied: filelock in /usr/local/lib/python3.11/dist-packages (from torch==2.6.0->torchvision) (3.18.0)\n",
            "Requirement already satisfied: typing-extensions>=4.10.0 in /usr/local/lib/python3.11/dist-packages (from torch==2.6.0->torchvision) (4.12.2)\n",
            "Requirement already satisfied: networkx in /usr/local/lib/python3.11/dist-packages (from torch==2.6.0->torchvision) (3.4.2)\n",
            "Requirement already satisfied: jinja2 in /usr/local/lib/python3.11/dist-packages (from torch==2.6.0->torchvision) (3.1.6)\n",
            "Requirement already satisfied: fsspec in /usr/local/lib/python3.11/dist-packages (from torch==2.6.0->torchvision) (2025.3.0)\n",
            "Requirement already satisfied: nvidia-cuda-nvrtc-cu12==12.4.127 in /usr/local/lib/python3.11/dist-packages (from torch==2.6.0->torchvision) (12.4.127)\n",
            "Requirement already satisfied: nvidia-cuda-runtime-cu12==12.4.127 in /usr/local/lib/python3.11/dist-packages (from torch==2.6.0->torchvision) (12.4.127)\n",
            "Requirement already satisfied: nvidia-cuda-cupti-cu12==12.4.127 in /usr/local/lib/python3.11/dist-packages (from torch==2.6.0->torchvision) (12.4.127)\n",
            "Requirement already satisfied: nvidia-cudnn-cu12==9.1.0.70 in /usr/local/lib/python3.11/dist-packages (from torch==2.6.0->torchvision) (9.1.0.70)\n",
            "Requirement already satisfied: nvidia-cublas-cu12==12.4.5.8 in /usr/local/lib/python3.11/dist-packages (from torch==2.6.0->torchvision) (12.4.5.8)\n",
            "Requirement already satisfied: nvidia-cufft-cu12==11.2.1.3 in /usr/local/lib/python3.11/dist-packages (from torch==2.6.0->torchvision) (11.2.1.3)\n",
            "Requirement already satisfied: nvidia-curand-cu12==10.3.5.147 in /usr/local/lib/python3.11/dist-packages (from torch==2.6.0->torchvision) (10.3.5.147)\n",
            "Requirement already satisfied: nvidia-cusolver-cu12==11.6.1.9 in /usr/local/lib/python3.11/dist-packages (from torch==2.6.0->torchvision) (11.6.1.9)\n",
            "Requirement already satisfied: nvidia-cusparse-cu12==12.3.1.170 in /usr/local/lib/python3.11/dist-packages (from torch==2.6.0->torchvision) (12.3.1.170)\n",
            "Requirement already satisfied: nvidia-cusparselt-cu12==0.6.2 in /usr/local/lib/python3.11/dist-packages (from torch==2.6.0->torchvision) (0.6.2)\n",
            "Requirement already satisfied: nvidia-nccl-cu12==2.21.5 in /usr/local/lib/python3.11/dist-packages (from torch==2.6.0->torchvision) (2.21.5)\n",
            "Requirement already satisfied: nvidia-nvtx-cu12==12.4.127 in /usr/local/lib/python3.11/dist-packages (from torch==2.6.0->torchvision) (12.4.127)\n",
            "Requirement already satisfied: nvidia-nvjitlink-cu12==12.4.127 in /usr/local/lib/python3.11/dist-packages (from torch==2.6.0->torchvision) (12.4.127)\n",
            "Requirement already satisfied: triton==3.2.0 in /usr/local/lib/python3.11/dist-packages (from torch==2.6.0->torchvision) (3.2.0)\n",
            "Requirement already satisfied: sympy==1.13.1 in /usr/local/lib/python3.11/dist-packages (from torch==2.6.0->torchvision) (1.13.1)\n",
            "Requirement already satisfied: mpmath<1.4,>=1.1.0 in /usr/local/lib/python3.11/dist-packages (from sympy==1.13.1->torch==2.6.0->torchvision) (1.3.0)\n",
            "Requirement already satisfied: MarkupSafe>=2.0 in /usr/local/lib/python3.11/dist-packages (from jinja2->torch==2.6.0->torchvision) (3.0.2)\n",
            "\u001b[31mERROR: Could not find a version that satisfies the requirement deoldify==0.2.0 (from versions: 0.0.1)\u001b[0m\u001b[31m\n",
            "\u001b[0m\u001b[31mERROR: No matching distribution found for deoldify==0.2.0\u001b[0m\u001b[31m\n",
            "\u001b[0m^C\n",
            "^C\n"
          ]
        }
      ]
    },
    {
      "cell_type": "code",
      "execution_count": null,
      "metadata": {
        "id": "RU09L2pCCMRk"
      },
      "outputs": [],
      "source": [
        "#NOTE:  This must be the first call in order to work properly!\n",
        "from deoldify import device\n",
        "from deoldify.device_id import DeviceId\n",
        "#choices:  CPU, GPU0...GPU7\n",
        "device.set(device=DeviceId.GPU0)"
      ]
    },
    {
      "cell_type": "code",
      "execution_count": null,
      "metadata": {
        "id": "7mbKM8uRCMRo"
      },
      "outputs": [],
      "source": [
        "import os\n",
        "import fastai\n",
        "from fastai import *\n",
        "from fastai.vision import *\n",
        "from fastai.callbacks.tensorboard import *\n",
        "from fastai.vision.gan import *\n",
        "from deoldify.generators import *\n",
        "from deoldify.critics import *\n",
        "from deoldify.dataset import *\n",
        "from deoldify.loss import *\n",
        "from deoldify.save import *\n",
        "from PIL import Image, ImageDraw, ImageFont\n",
        "from PIL import ImageFile"
      ]
    },
    {
      "cell_type": "markdown",
      "metadata": {
        "id": "n_66RSkBCMRq"
      },
      "source": [
        "## Setup"
      ]
    },
    {
      "cell_type": "code",
      "execution_count": null,
      "metadata": {
        "id": "qcw-bUgyCMRs"
      },
      "outputs": [],
      "source": [
        "path = Path('data/imagenet/ILSVRC/Data/CLS-LOC')\n",
        "path_hr = path\n",
        "path_lr = path/'bandw'\n",
        "\n",
        "proj_id = 'StableModel'\n",
        "\n",
        "gen_name = proj_id + '_gen'\n",
        "pre_gen_name = gen_name + '_0'\n",
        "crit_name = proj_id + '_crit'\n",
        "\n",
        "name_gen = proj_id + '_image_gen'\n",
        "path_gen = path/name_gen\n",
        "\n",
        "TENSORBOARD_PATH = Path('data/tensorboard/' + proj_id)\n",
        "\n",
        "nf_factor = 2\n",
        "pct_start = 1e-8"
      ]
    },
    {
      "cell_type": "code",
      "execution_count": null,
      "metadata": {
        "id": "vA33KDMsCMRt"
      },
      "outputs": [],
      "source": [
        "def get_data(bs:int, sz:int, keep_pct:float):\n",
        "    return get_colorize_data(sz=sz, bs=bs, crappy_path=path_lr, good_path=path_hr,\n",
        "                             random_seed=None, keep_pct=keep_pct)\n",
        "\n",
        "def get_crit_data(classes, bs, sz):\n",
        "    src = ImageList.from_folder(path, include=classes, recurse=True).split_by_rand_pct(0.1, seed=42)\n",
        "    ll = src.label_from_folder(classes=classes)\n",
        "    data = (ll.transform(get_transforms(max_zoom=2.), size=sz)\n",
        "           .databunch(bs=bs).normalize(imagenet_stats))\n",
        "    return data\n",
        "\n",
        "def create_training_images(fn,i):\n",
        "    dest = path_lr/fn.relative_to(path_hr)\n",
        "    dest.parent.mkdir(parents=True, exist_ok=True)\n",
        "    img = PIL.Image.open(fn).convert('LA').convert('RGB')\n",
        "    img.save(dest)\n",
        "\n",
        "def save_preds(dl):\n",
        "    i=0\n",
        "    names = dl.dataset.items\n",
        "\n",
        "    for b in dl:\n",
        "        preds = learn_gen.pred_batch(batch=b, reconstruct=True)\n",
        "        for o in preds:\n",
        "            o.save(path_gen/names[i].name)\n",
        "            i += 1\n",
        "\n",
        "def save_gen_images():\n",
        "    if path_gen.exists(): shutil.rmtree(path_gen)\n",
        "    path_gen.mkdir(exist_ok=True)\n",
        "    data_gen = get_data(bs=bs, sz=sz, keep_pct=0.085)\n",
        "    save_preds(data_gen.fix_dl)\n",
        "    PIL.Image.open(path_gen.ls()[0])"
      ]
    },
    {
      "cell_type": "markdown",
      "metadata": {
        "id": "I9Y6WgfpCMRu"
      },
      "source": [
        "## Create black and white training images"
      ]
    },
    {
      "cell_type": "markdown",
      "metadata": {
        "id": "Xjz7eQ6CCMRv"
      },
      "source": [
        "Only runs if the directory isn't already created."
      ]
    },
    {
      "cell_type": "code",
      "execution_count": null,
      "metadata": {
        "id": "-cDK7h16CMRw"
      },
      "outputs": [],
      "source": [
        "if not path_lr.exists():\n",
        "    il = ImageList.from_folder(path_hr)\n",
        "    parallel(create_training_images, il.items)"
      ]
    },
    {
      "cell_type": "markdown",
      "metadata": {
        "id": "-IkFEeZVCMRx"
      },
      "source": [
        "## Pre-train generator"
      ]
    },
    {
      "cell_type": "markdown",
      "metadata": {
        "id": "iMrEefMaCMRy"
      },
      "source": [
        "#### NOTE\n",
        "Most of the training takes place here in pretraining for NoGAN.  The goal here is to take the generator as far as possible with conventional training, as that is much easier to control and obtain glitch-free results compared to GAN training."
      ]
    },
    {
      "cell_type": "markdown",
      "metadata": {
        "id": "cbdm6XJ6CMRy"
      },
      "source": [
        "### 64px"
      ]
    },
    {
      "cell_type": "code",
      "execution_count": null,
      "metadata": {
        "id": "y5jdm3SmCMRz"
      },
      "outputs": [],
      "source": [
        "bs=88\n",
        "sz=64\n",
        "keep_pct=1.0"
      ]
    },
    {
      "cell_type": "code",
      "execution_count": null,
      "metadata": {
        "id": "g4gOgcgWCMR0"
      },
      "outputs": [],
      "source": [
        "data_gen = get_data(bs=bs, sz=sz, keep_pct=keep_pct)"
      ]
    },
    {
      "cell_type": "code",
      "execution_count": null,
      "metadata": {
        "id": "scnTaIrvCMR0"
      },
      "outputs": [],
      "source": [
        "learn_gen = gen_learner_wide(data=data_gen, gen_loss=FeatureLoss(), nf_factor=nf_factor)"
      ]
    },
    {
      "cell_type": "code",
      "execution_count": null,
      "metadata": {
        "id": "tHu-UnhaCMR0"
      },
      "outputs": [],
      "source": [
        "learn_gen.callback_fns.append(partial(ImageGenTensorboardWriter, base_dir=TENSORBOARD_PATH, name='GenPre'))"
      ]
    },
    {
      "cell_type": "code",
      "execution_count": null,
      "metadata": {
        "id": "jTK7ou_LCMR1"
      },
      "outputs": [],
      "source": [
        "learn_gen.fit_one_cycle(1, pct_start=0.8, max_lr=slice(1e-3))"
      ]
    },
    {
      "cell_type": "code",
      "execution_count": null,
      "metadata": {
        "id": "4BaS4nJXCMR2"
      },
      "outputs": [],
      "source": [
        "learn_gen.save(pre_gen_name)"
      ]
    },
    {
      "cell_type": "code",
      "execution_count": null,
      "metadata": {
        "id": "4-3wUCaECMR2"
      },
      "outputs": [],
      "source": [
        "learn_gen.unfreeze()"
      ]
    },
    {
      "cell_type": "code",
      "execution_count": null,
      "metadata": {
        "id": "JsHp0wXtCMR2"
      },
      "outputs": [],
      "source": [
        "learn_gen.fit_one_cycle(1, pct_start=pct_start,  max_lr=slice(3e-7, 3e-4))"
      ]
    },
    {
      "cell_type": "code",
      "execution_count": null,
      "metadata": {
        "id": "f-Aa0DXICMR3"
      },
      "outputs": [],
      "source": [
        "learn_gen.save(pre_gen_name)"
      ]
    },
    {
      "cell_type": "markdown",
      "metadata": {
        "id": "tepUqLZvCMR3"
      },
      "source": [
        "### 128px"
      ]
    },
    {
      "cell_type": "code",
      "execution_count": null,
      "metadata": {
        "id": "kCZvNk2rCMR3"
      },
      "outputs": [],
      "source": [
        "bs=20\n",
        "sz=128\n",
        "keep_pct=1.0"
      ]
    },
    {
      "cell_type": "code",
      "execution_count": null,
      "metadata": {
        "id": "PEcEq_CFCMR4"
      },
      "outputs": [],
      "source": [
        "learn_gen.data = get_data(sz=sz, bs=bs, keep_pct=keep_pct)"
      ]
    },
    {
      "cell_type": "code",
      "execution_count": null,
      "metadata": {
        "id": "yUo68zfyCMR4"
      },
      "outputs": [],
      "source": [
        "learn_gen.unfreeze()"
      ]
    },
    {
      "cell_type": "code",
      "execution_count": null,
      "metadata": {
        "id": "DbuhC6vsCMR4"
      },
      "outputs": [],
      "source": [
        "learn_gen.fit_one_cycle(1, pct_start=pct_start, max_lr=slice(1e-7,1e-4))"
      ]
    },
    {
      "cell_type": "code",
      "execution_count": null,
      "metadata": {
        "id": "SYi8XfrFCMR4"
      },
      "outputs": [],
      "source": [
        "learn_gen.save(pre_gen_name)"
      ]
    },
    {
      "cell_type": "markdown",
      "metadata": {
        "id": "SaCHa5QVCMR5"
      },
      "source": [
        "### 192px"
      ]
    },
    {
      "cell_type": "code",
      "execution_count": null,
      "metadata": {
        "id": "XfR5jwUICMR5"
      },
      "outputs": [],
      "source": [
        "bs=8\n",
        "sz=192\n",
        "keep_pct=0.50"
      ]
    },
    {
      "cell_type": "code",
      "execution_count": null,
      "metadata": {
        "id": "znjs8n97CMR6"
      },
      "outputs": [],
      "source": [
        "learn_gen.data = get_data(sz=sz, bs=bs, keep_pct=keep_pct)"
      ]
    },
    {
      "cell_type": "code",
      "execution_count": null,
      "metadata": {
        "id": "7Y0_JBgrCMR6"
      },
      "outputs": [],
      "source": [
        "learn_gen.unfreeze()"
      ]
    },
    {
      "cell_type": "code",
      "execution_count": null,
      "metadata": {
        "id": "PfsRQixiCMR6"
      },
      "outputs": [],
      "source": [
        "learn_gen.fit_one_cycle(1, pct_start=pct_start, max_lr=slice(5e-8,5e-5))"
      ]
    },
    {
      "cell_type": "code",
      "execution_count": null,
      "metadata": {
        "id": "M3wzorezCMR8"
      },
      "outputs": [],
      "source": [
        "learn_gen.save(pre_gen_name)"
      ]
    },
    {
      "cell_type": "markdown",
      "metadata": {
        "id": "zsKdLWF1CMR8"
      },
      "source": [
        "## Repeatable GAN Cycle"
      ]
    },
    {
      "cell_type": "markdown",
      "metadata": {
        "id": "DFKRV6SgCMR8"
      },
      "source": [
        "#### NOTE\n",
        "Best results so far have been based on repeating the cycle below a few times (about 5-8?), until diminishing returns are hit (no improvement in image quality).  Each time you repeat the cycle, you want to increment that old_checkpoint_num by 1 so that new check points don't overwrite the old.  "
      ]
    },
    {
      "cell_type": "code",
      "execution_count": null,
      "metadata": {
        "id": "rPWY7mKgCMR8"
      },
      "outputs": [],
      "source": [
        "old_checkpoint_num = 0\n",
        "checkpoint_num = old_checkpoint_num + 1\n",
        "gen_old_checkpoint_name = gen_name + '_' + str(old_checkpoint_num)\n",
        "gen_new_checkpoint_name = gen_name + '_' + str(checkpoint_num)\n",
        "crit_old_checkpoint_name = crit_name + '_' + str(old_checkpoint_num)\n",
        "crit_new_checkpoint_name= crit_name + '_' + str(checkpoint_num)"
      ]
    },
    {
      "cell_type": "markdown",
      "metadata": {
        "id": "Q25O-iwUCMR9"
      },
      "source": [
        "### Save Generated Images"
      ]
    },
    {
      "cell_type": "code",
      "execution_count": null,
      "metadata": {
        "id": "4-pqfOkXCMR9"
      },
      "outputs": [],
      "source": [
        "bs=8\n",
        "sz=192"
      ]
    },
    {
      "cell_type": "code",
      "execution_count": null,
      "metadata": {
        "id": "9N5W0IjgCMSG"
      },
      "outputs": [],
      "source": [
        "learn_gen = gen_learner_wide(data=data_gen, gen_loss=FeatureLoss(), nf_factor=nf_factor).load(gen_old_checkpoint_name, with_opt=False)"
      ]
    },
    {
      "cell_type": "code",
      "execution_count": null,
      "metadata": {
        "id": "FoNSPwowCMSH"
      },
      "outputs": [],
      "source": [
        "save_gen_images()"
      ]
    },
    {
      "cell_type": "markdown",
      "metadata": {
        "id": "a7cWSh1gCMSI"
      },
      "source": [
        "### Pretrain Critic"
      ]
    },
    {
      "cell_type": "markdown",
      "metadata": {
        "id": "uukzXEmBCMSJ"
      },
      "source": [
        "##### Only need full pretraining of critic when starting from scratch.  Otherwise, just finetune!"
      ]
    },
    {
      "cell_type": "code",
      "execution_count": null,
      "metadata": {
        "id": "ZRegjWBVCMSJ"
      },
      "outputs": [],
      "source": [
        "if old_checkpoint_num == 0:\n",
        "    bs=64\n",
        "    sz=128\n",
        "    learn_gen=None\n",
        "    gc.collect()\n",
        "    data_crit = get_crit_data([name_gen, 'test'], bs=bs, sz=sz)\n",
        "    data_crit.show_batch(rows=3, ds_type=DatasetType.Train, imgsize=3)\n",
        "    learn_critic = colorize_crit_learner(data=data_crit, nf=256)\n",
        "    learn_critic.callback_fns.append(partial(LearnerTensorboardWriter, base_dir=TENSORBOARD_PATH, name='CriticPre'))\n",
        "    learn_critic.fit_one_cycle(6, 1e-3)\n",
        "    learn_critic.save(crit_old_checkpoint_name)"
      ]
    },
    {
      "cell_type": "code",
      "execution_count": null,
      "metadata": {
        "id": "8LAlXNS5CMSJ"
      },
      "outputs": [],
      "source": [
        "bs=16\n",
        "sz=192"
      ]
    },
    {
      "cell_type": "code",
      "execution_count": null,
      "metadata": {
        "id": "zAUvzeBjCMSK"
      },
      "outputs": [],
      "source": [
        "data_crit = get_crit_data([name_gen, 'test'], bs=bs, sz=sz)"
      ]
    },
    {
      "cell_type": "code",
      "execution_count": null,
      "metadata": {
        "id": "bi2XNZAOCMSK"
      },
      "outputs": [],
      "source": [
        "data_crit.show_batch(rows=3, ds_type=DatasetType.Train, imgsize=3)"
      ]
    },
    {
      "cell_type": "code",
      "execution_count": null,
      "metadata": {
        "id": "NekjBBZ-CMSK"
      },
      "outputs": [],
      "source": [
        "learn_critic = colorize_crit_learner(data=data_crit, nf=256).load(crit_old_checkpoint_name, with_opt=False)"
      ]
    },
    {
      "cell_type": "code",
      "execution_count": null,
      "metadata": {
        "id": "o25RJR1dCMSL"
      },
      "outputs": [],
      "source": [
        "learn_critic.callback_fns.append(partial(LearnerTensorboardWriter, base_dir=TENSORBOARD_PATH, name='CriticPre'))"
      ]
    },
    {
      "cell_type": "code",
      "execution_count": null,
      "metadata": {
        "id": "PQgFCzkyCMSL"
      },
      "outputs": [],
      "source": [
        "learn_critic.fit_one_cycle(4, 1e-4)"
      ]
    },
    {
      "cell_type": "code",
      "execution_count": null,
      "metadata": {
        "id": "iSwwVkV8CMSL"
      },
      "outputs": [],
      "source": [
        "learn_critic.save(crit_new_checkpoint_name)"
      ]
    },
    {
      "cell_type": "markdown",
      "metadata": {
        "id": "rHSDg7PiCMSL"
      },
      "source": [
        "### GAN"
      ]
    },
    {
      "cell_type": "code",
      "execution_count": null,
      "metadata": {
        "id": "5yICMW7FCMSM"
      },
      "outputs": [],
      "source": [
        "learn_crit=None\n",
        "learn_gen=None\n",
        "gc.collect()"
      ]
    },
    {
      "cell_type": "code",
      "execution_count": null,
      "metadata": {
        "id": "wZwYMBqwCMSN"
      },
      "outputs": [],
      "source": [
        "lr=2e-5\n",
        "sz=192\n",
        "bs=5"
      ]
    },
    {
      "cell_type": "code",
      "execution_count": null,
      "metadata": {
        "id": "71i61Fq4CMSN"
      },
      "outputs": [],
      "source": [
        "data_crit = get_crit_data([name_gen, 'test'], bs=bs, sz=sz)"
      ]
    },
    {
      "cell_type": "code",
      "execution_count": null,
      "metadata": {
        "id": "joCBdZTsCMSN"
      },
      "outputs": [],
      "source": [
        "learn_crit = colorize_crit_learner(data=data_crit, nf=256).load(crit_new_checkpoint_name, with_opt=False)"
      ]
    },
    {
      "cell_type": "code",
      "execution_count": null,
      "metadata": {
        "id": "c24K47bRCMSO"
      },
      "outputs": [],
      "source": [
        "learn_gen = gen_learner_wide(data=data_gen, gen_loss=FeatureLoss(), nf_factor=nf_factor).load(gen_old_checkpoint_name, with_opt=False)"
      ]
    },
    {
      "cell_type": "code",
      "execution_count": null,
      "metadata": {
        "id": "uBQvlgeYCMSO"
      },
      "outputs": [],
      "source": [
        "switcher = partial(AdaptiveGANSwitcher, critic_thresh=0.65)\n",
        "learn = GANLearner.from_learners(learn_gen, learn_crit, weights_gen=(1.0,1.5), show_img=False, switcher=switcher,\n",
        "                                 opt_func=partial(optim.Adam, betas=(0.,0.9)), wd=1e-3)\n",
        "learn.callback_fns.append(partial(GANDiscriminativeLR, mult_lr=5.))\n",
        "learn.callback_fns.append(partial(GANTensorboardWriter, base_dir=TENSORBOARD_PATH, name='GanLearner', visual_iters=100))\n",
        "learn.callback_fns.append(partial(GANSaveCallback, learn_gen=learn_gen, filename=gen_new_checkpoint_name, save_iters=100))"
      ]
    },
    {
      "cell_type": "markdown",
      "metadata": {
        "id": "3gueBth3CMSP"
      },
      "source": [
        "#### Instructions:  \n",
        "Find the checkpoint just before where glitches start to be introduced.  This is all very new so you may need to play around with just how far you go here with keep_pct."
      ]
    },
    {
      "cell_type": "code",
      "execution_count": null,
      "metadata": {
        "id": "qdV5w3ZGCMSQ"
      },
      "outputs": [],
      "source": [
        "learn.data = get_data(sz=sz, bs=bs, keep_pct=0.03)\n",
        "learn_gen.freeze_to(-1)\n",
        "learn.fit(1,lr)"
      ]
    }
  ],
  "metadata": {
    "kernelspec": {
      "display_name": "Python 3",
      "name": "python3"
    },
    "language_info": {
      "codemirror_mode": {
        "name": "ipython",
        "version": 3
      },
      "file_extension": ".py",
      "mimetype": "text/x-python",
      "name": "python",
      "nbconvert_exporter": "python",
      "pygments_lexer": "ipython3",
      "version": "3.7.6"
    },
    "colab": {
      "provenance": [],
      "gpuType": "T4"
    },
    "accelerator": "GPU"
  },
  "nbformat": 4,
  "nbformat_minor": 0
}